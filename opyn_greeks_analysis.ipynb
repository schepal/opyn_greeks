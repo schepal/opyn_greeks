{
 "cells": [
  {
   "cell_type": "code",
   "execution_count": 2,
   "metadata": {},
   "outputs": [],
   "source": [
    "import py_vollib.black_scholes.implied_volatility as iv\n",
    "import py_vollib.black_scholes as bs\n",
    "import py_vollib.black_scholes.greeks.numerical as greek\n",
    "import pandas as pd\n",
    "import matplotlib.pyplot as plt\n",
    "import numpy as np"
   ]
  },
  {
   "cell_type": "code",
   "execution_count": 3,
   "metadata": {},
   "outputs": [],
   "source": [
    "def get_vol(option_price, spot, strike, T, r=0, option_type='p'):\n",
    "    return iv.implied_volatility(option_price, spot, strike, T, r, option_type)\n",
    "\n",
    "def get_greeks(option_price, spot, strike, T, r=0, option_type='p'):\n",
    "    iv = get_vol(option_price, spot, strike, T, r)\n",
    "    gamma = greek.agamma(option_type, spot, strike, T, r, iv)\n",
    "    theta = greek.atheta(option_type, spot, strike, T, r, iv)\n",
    "    delta = greek.adelta(option_type, spot, strike, T, r, iv)\n",
    "    vega = greek.avega(option_type, spot, strike, T, r, iv)\n",
    "    return [iv, gamma, theta, vega, delta]"
   ]
  },
  {
   "cell_type": "code",
   "execution_count": 8,
   "metadata": {},
   "outputs": [],
   "source": [
    "spot = 209.10\n",
    "T1 = (200/24)/365 # (hours until expiry /24) / 365 == Years Until Maturity\n",
    "strike_one = 200\n",
    "price_one = 6.0824"
   ]
  },
  {
   "cell_type": "code",
   "execution_count": 9,
   "metadata": {},
   "outputs": [
    {
     "data": {
      "text/html": [
       "<div>\n",
       "<style scoped>\n",
       "    .dataframe tbody tr th:only-of-type {\n",
       "        vertical-align: middle;\n",
       "    }\n",
       "\n",
       "    .dataframe tbody tr th {\n",
       "        vertical-align: top;\n",
       "    }\n",
       "\n",
       "    .dataframe thead th {\n",
       "        text-align: right;\n",
       "    }\n",
       "</style>\n",
       "<table border=\"1\" class=\"dataframe\">\n",
       "  <thead>\n",
       "    <tr style=\"text-align: right;\">\n",
       "      <th></th>\n",
       "      <th>implied_vol</th>\n",
       "      <th>gamma</th>\n",
       "      <th>theta</th>\n",
       "      <th>vega</th>\n",
       "      <th>delta</th>\n",
       "    </tr>\n",
       "  </thead>\n",
       "  <tbody>\n",
       "    <tr>\n",
       "      <th>0</th>\n",
       "      <td>0.809967</td>\n",
       "      <td>0.014245</td>\n",
       "      <td>-0.559716</td>\n",
       "      <td>0.115173</td>\n",
       "      <td>-0.335506</td>\n",
       "    </tr>\n",
       "  </tbody>\n",
       "</table>\n",
       "</div>"
      ],
      "text/plain": [
       "   implied_vol     gamma     theta      vega     delta\n",
       "0     0.809967  0.014245 -0.559716  0.115173 -0.335506"
      ]
     },
     "execution_count": 9,
     "metadata": {},
     "output_type": "execute_result"
    }
   ],
   "source": [
    "one = get_greeks(price_one, spot, strike_one, T1)\n",
    "df = pd.DataFrame([one])\n",
    "df.columns = ['implied_vol', 'gamma', 'theta', 'vega', 'delta']\n",
    "df"
   ]
  },
  {
   "cell_type": "code",
   "execution_count": 13,
   "metadata": {},
   "outputs": [],
   "source": [
    "# Closed form solution to calculate IV - useful for when we program on ETH Blockchain in Solidity\n",
    "def put_corrado_miller(price, strike, spot, time):\n",
    "    fact_1 = np.sqrt((2*np.pi)/time)*(1/(spot + strike))\n",
    "    fact_2 = (price - (strike-spot)/2)\n",
    "    fact_3 = (price - (strike-spot)/2)**2\n",
    "    fact_4 = ((spot - strike)**2)/(np.pi)\n",
    "    iv = fact_1*(fact_2 + np.sqrt(fact_3 - fact_4))\n",
    "    return iv"
   ]
  },
  {
   "cell_type": "code",
   "execution_count": 14,
   "metadata": {},
   "outputs": [
    {
     "data": {
      "text/plain": [
       "0.808704118423574"
      ]
     },
     "execution_count": 14,
     "metadata": {},
     "output_type": "execute_result"
    }
   ],
   "source": [
    "# We get a similar IV as the iterative solution\n",
    "put_corrado_miller(price_one, strike_one, spot , T1)"
   ]
  }
 ],
 "metadata": {
  "kernelspec": {
   "display_name": "Python 3",
   "language": "python",
   "name": "python3"
  },
  "language_info": {
   "codemirror_mode": {
    "name": "ipython",
    "version": 3
   },
   "file_extension": ".py",
   "mimetype": "text/x-python",
   "name": "python",
   "nbconvert_exporter": "python",
   "pygments_lexer": "ipython3",
   "version": "3.7.4"
  }
 },
 "nbformat": 4,
 "nbformat_minor": 4
}
